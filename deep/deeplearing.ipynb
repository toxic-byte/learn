{
 "cells": [
  {
   "cell_type": "markdown",
   "id": "1bec482b",
   "metadata": {},
   "source": [
    "# config配置管理"
   ]
  },
  {
   "cell_type": "markdown",
   "id": "e11489ef",
   "metadata": {},
   "source": []
  }
 ],
 "metadata": {
  "language_info": {
   "name": "python"
  }
 },
 "nbformat": 4,
 "nbformat_minor": 5
}
